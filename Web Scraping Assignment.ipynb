{
 "cells": [
  {
   "cell_type": "code",
   "execution_count": 1,
   "id": "2c98313f-e152-4cba-a52f-ef73274e3079",
   "metadata": {},
   "outputs": [],
   "source": [
    "# Q.1-Web Scraping?"
   ]
  },
  {
   "cell_type": "code",
   "execution_count": 2,
   "id": "c55471e8-f864-4f3f-a9f9-76e5d5916708",
   "metadata": {},
   "outputs": [],
   "source": [
    "# A way of collecting data from a website by mean of a script that read the content\n",
    "# from the pagees on the website and then stores the data in a data base.\n",
    "# Example if i m collecting data from the web site like in Amazon spages one product \n",
    "# like Readme Headphone how many People Gives reviews or Ratting collect all by use \n",
    "# use URL collect all data by Flask Lab and then By Lab Store in MongoDB."
   ]
  },
  {
   "cell_type": "code",
   "execution_count": 3,
   "id": "e33714d7-ad10-427a-aae1-1c16bac11ce5",
   "metadata": {},
   "outputs": [],
   "source": [
    "# 3 areas where Web Scraping is used \n",
    "# a. In Investment Busigness.\n",
    "# B. Social Media web Data.\n",
    "# c. Extracting contact information."
   ]
  },
  {
   "cell_type": "code",
   "execution_count": 4,
   "id": "b2ed5391-c268-4892-acc4-3d5dd10f2f04",
   "metadata": {},
   "outputs": [],
   "source": [
    "# Q.2- Diffrent methods used for Web Scraping."
   ]
  },
  {
   "cell_type": "code",
   "execution_count": 5,
   "id": "12c4ee7e-8076-4443-a926-d9dbbc7db17d",
   "metadata": {},
   "outputs": [],
   "source": [
    "# a. Human Copy and Paste.\n",
    "# b. Text Pattern Matching.\n",
    "# c. HTTP Programming.\n",
    "# d. Computer Vision Web-page analysis."
   ]
  },
  {
   "cell_type": "code",
   "execution_count": 6,
   "id": "c2a1627a-9961-408b-a79c-c91386245feb",
   "metadata": {},
   "outputs": [],
   "source": [
    "# Q.3- What is BS? Why is it used?"
   ]
  },
  {
   "cell_type": "code",
   "execution_count": 7,
   "id": "e3b3f266-0432-4e4f-8709-d493f5bb0c6d",
   "metadata": {},
   "outputs": [],
   "source": [
    "# parsing HTML documents , it creates a parse tree for parsed pages that can used\n",
    "# to extract data from HTML which is useful for web scraping."
   ]
  },
  {
   "cell_type": "code",
   "execution_count": 8,
   "id": "10c62370-7c04-48c3-8228-2a3cc3fec19e",
   "metadata": {},
   "outputs": [],
   "source": [
    "# Q.4-Why is flask is used in Web Scraping project?"
   ]
  },
  {
   "cell_type": "code",
   "execution_count": 9,
   "id": "bf7c0343-f43c-4988-8101-db80848a3af1",
   "metadata": {},
   "outputs": [],
   "source": [
    "# Flask is a lightweight framwork to build website. We use this parse our collected\n",
    "# data and display it as HTML in a new HTML File.\n",
    "# The requests modules allows us to send http requests to the website we want to\n",
    "# scrap."
   ]
  },
  {
   "cell_type": "code",
   "execution_count": 12,
   "id": "b3d52efd-36c0-4dc4-8911-75ade42f5c99",
   "metadata": {},
   "outputs": [],
   "source": [
    "# W.5- Names of the AWS services  in Web Scraping Projectand use of each service."
   ]
  },
  {
   "cell_type": "code",
   "execution_count": null,
   "id": "197fbe37-d826-4ea3-b1b5-ee50a69c9d61",
   "metadata": {},
   "outputs": [],
   "source": [
    "# Amazon Elstic Cloud Compute used for Giving full control of the instance\n",
    "# Setting up a BPC, route tables ,ETC\n",
    "# AWS ECS Elastic container services use all commands ,commond line to assemble an image.\n",
    "# AWS Lambda to which used to build a very lean infrastructure "
   ]
  }
 ],
 "metadata": {
  "kernelspec": {
   "display_name": "Python 3 (ipykernel)",
   "language": "python",
   "name": "python3"
  },
  "language_info": {
   "codemirror_mode": {
    "name": "ipython",
    "version": 3
   },
   "file_extension": ".py",
   "mimetype": "text/x-python",
   "name": "python",
   "nbconvert_exporter": "python",
   "pygments_lexer": "ipython3",
   "version": "3.10.8"
  }
 },
 "nbformat": 4,
 "nbformat_minor": 5
}
